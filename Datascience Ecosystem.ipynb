{
 "cells": [
  {
   "cell_type": "markdown",
   "id": "8049b65b-eb66-4074-a129-1cfc49f0f0e0",
   "metadata": {},
   "source": [
    "# H1 heading\n",
    "\"Datascience Tools and Ecosystem\""
   ]
  },
  {
   "cell_type": "markdown",
   "id": "50d910f6-0914-47c8-9202-6a7f2cd642db",
   "metadata": {},
   "source": [
    "In this notebook Tools which used in Datascience is summarized"
   ]
  },
  {
   "cell_type": "markdown",
   "id": "4ac3de6f-5733-4676-bde1-059c3044d33c",
   "metadata": {},
   "source": [
    "Languages for Datascience are as follows\n",
    "1. Python\n",
    "2. R\n",
    "3. SQL(Structured Query Language) \n"
   ]
  },
  {
   "cell_type": "markdown",
   "id": "fede13f4-60ee-4db4-87c7-0b18616e3bcc",
   "metadata": {},
   "source": [
    "Some commonly used libraries in Data science are\n",
    "1. Pandas\n",
    "2. Numpy\n",
    "3. Matplotlib\n",
    "4. Tensorflow"
   ]
  },
  {
   "cell_type": "markdown",
   "id": "57e3f2e1-844c-46a9-b1f3-9c59f7722f8d",
   "metadata": {},
   "source": [
    "| Datascience Tools |\n",
    "| ------------------|\n",
    "| Development Enviroment|\n",
    "| Open Source or Cloud base |    "
   ]
  },
  {
   "cell_type": "markdown",
   "id": "cd9df1e3-0d58-4a23-bb06-6c29d2c630c7",
   "metadata": {},
   "source": [
    "### Heading3\n",
    "Below are the some arithmetic Expressions in Python"
   ]
  },
  {
   "cell_type": "code",
   "execution_count": 6,
   "id": "8c809947-0958-403b-86ea-83c5d704c6cf",
   "metadata": {},
   "outputs": [
    {
     "name": "stdout",
     "output_type": "stream",
     "text": [
      "17\n"
     ]
    }
   ],
   "source": [
    "a=(3*4)+5\n",
    "print(a)\n",
    "#/ This is the arithmetic to multiply and add numbers"
   ]
  },
  {
   "cell_type": "code",
   "execution_count": 14,
   "id": "84c515c7-58f0-44ce-a8d5-bd93f511382c",
   "metadata": {},
   "outputs": [
    {
     "name": "stdout",
     "output_type": "stream",
     "text": [
      "3.3333333333333335\n"
     ]
    }
   ],
   "source": [
    "a=200\n",
    "b=60\n",
    "print(a/b)\n",
    "#/ Total hours in 200 minutes"
   ]
  },
  {
   "cell_type": "markdown",
   "id": "407d9433-61b4-46ab-bddc-a74d14a52462",
   "metadata": {},
   "source": [
    "***Objectives***\n",
    "Undorder List\n",
    "* Python\n",
    "* R"
   ]
  },
  {
   "cell_type": "markdown",
   "id": "32a372f9-e45c-4b3b-8ea9-2b9a302c381d",
   "metadata": {},
   "source": [
    "## Author\n",
    "Murtaza Hassan\n"
   ]
  },
  {
   "cell_type": "code",
   "execution_count": null,
   "id": "c95f8efd-ce03-493f-8e09-e181aab6e0e9",
   "metadata": {},
   "outputs": [],
   "source": []
  }
 ],
 "metadata": {
  "kernelspec": {
   "display_name": "Python 3 (ipykernel)",
   "language": "python",
   "name": "python3"
  },
  "language_info": {
   "codemirror_mode": {
    "name": "ipython",
    "version": 3
   },
   "file_extension": ".py",
   "mimetype": "text/x-python",
   "name": "python",
   "nbconvert_exporter": "python",
   "pygments_lexer": "ipython3",
   "version": "3.13.5"
  }
 },
 "nbformat": 4,
 "nbformat_minor": 5
}
